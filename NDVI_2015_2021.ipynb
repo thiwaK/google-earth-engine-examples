{
 "cells": [
  {
   "cell_type": "code",
   "execution_count": null,
   "id": "fa1e4304-8beb-49c3-b9e6-fdaa49a53155",
   "metadata": {},
   "outputs": [],
   "source": [
    "import ee\n",
    "import geemap as gee\n",
    "import geemap.eefolium as geemap\n",
    "import json\n",
    "import os\n",
    "ee.Initialize()"
   ]
  },
  {
   "cell_type": "code",
   "execution_count": null,
   "id": "035e147e-24bd-4c21-894d-a513413d162f",
   "metadata": {},
   "outputs": [],
   "source": [
    "attributes = {'min': 0.0, 'max': 9000.0,\n",
    "  'palette': [\n",
    "    'FFFFFF', 'CE7E45', 'DF923D', 'F1B555', 'FCD163', '99B718', '74A901',\n",
    "    '66A000', '529400', '3E8601', '207401', '056201', '004C00', '023B01',\n",
    "    '012E01', '011D01', '011301'\n",
    "  ]}\n",
    "sl_geom_boundary = ee.FeatureCollection(\"USDOS/LSIB_SIMPLE/2017\").filter(ee.Filter.eq('country_na', 'Sri Lanka')).geometry()\n",
    "x,y = sl_geom_boundary.centroid().getInfo()['coordinates'][1],sl_geom_boundary.centroid().getInfo()['coordinates'][0]\n",
    "ndvi_dataset = ee.ImageCollection(\"MODIS/061/MOD13A1\")\n",
    "datasets = {}\n",
    "\n",
    "for year in range(2015,2022):\n",
    "    datasets[year] = ndvi_dataset.filterBounds(sl_geom_boundary).filter(ee.Filter.date(str(year) + '-01-01', str(year) + '-12-31'))"
   ]
  },
  {
   "cell_type": "code",
   "execution_count": null,
   "id": "fdaef3de-707c-4c49-aca9-ef21d2edcf3c",
   "metadata": {},
   "outputs": [],
   "source": [
    "Map = geemap.Map(center=(x,y), zoom=8)\n",
    "\n",
    "for year, data in datasets.items():\n",
    "    print(f\"[+] processing... {year}\")\n",
    "    dataset = data.select('NDVI').map(lambda img: img.clip(sl_geom_boundary)).mean()\n",
    "    Map.addLayer(dataset, attributes, 'NDVI ' + str(year))\n",
    "    name = os.path.join(\"D:\\\\\", str(year) + '.tif')\n",
    "    # geemap.ee_export_image(dataset, filename=\"D:\\\\\" + str(year) + \".tif\", scale=550, region=sl_geom_boundary, file_per_band=True)\n",
    "    geemap.ee_export_image_to_drive(dataset, fileNamePrefix=\"sl_ndvi_\" + str(year), region=sl_geom_boundary, folder='export', scale=550)\n",
    "Map"
   ]
  }
 ],
 "metadata": {
  "kernelspec": {
   "display_name": "Python 3 (ipykernel)",
   "language": "python",
   "name": "python3"
  },
  "language_info": {
   "codemirror_mode": {
    "name": "ipython",
    "version": 3
   },
   "file_extension": ".py",
   "mimetype": "text/x-python",
   "name": "python",
   "nbconvert_exporter": "python",
   "pygments_lexer": "ipython3",
   "version": "3.8.13"
  }
 },
 "nbformat": 4,
 "nbformat_minor": 5
}
