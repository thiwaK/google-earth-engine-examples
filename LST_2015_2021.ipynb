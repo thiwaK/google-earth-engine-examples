{
 "cells": [
  {
   "cell_type": "code",
   "execution_count": null,
   "id": "b73e2732",
   "metadata": {},
   "outputs": [],
   "source": [
    "import ee\n",
    "import geemap as gee\n",
    "import geemap.eefolium as geemap\n",
    "import json\n",
    "import os\n",
    "ee.Initialize()"
   ]
  },
  {
   "cell_type": "code",
   "execution_count": null,
   "id": "4eba3501",
   "metadata": {},
   "outputs": [],
   "source": [
    "attributes = {'min': 20, 'max': 40,'palette': [\"#000080\",\"#0000D9\",\"#4000FF\",\"#8000FF\",\"#0080FF\",\"#00FFFF\",\n",
    "    \"#00FF80\",\"#80FF00\",\"#DAFF00\",\"#FFFF00\",\"#FFF500\",\"#FFDA00\",\n",
    "    \"#FFB000\",\"#FFA400\",\"#FF4F00\",\"#FF2500\",\"#FF0A00\",\"#FF00FF\",]}\n",
    "sl_geom_boundary = ee.FeatureCollection(\"USDOS/LSIB_SIMPLE/2017\").filter(ee.Filter.eq('country_na', 'Sri Lanka')).geometry()\n",
    "x,y = sl_geom_boundary.centroid().getInfo()['coordinates'][1],sl_geom_boundary.centroid().getInfo()['coordinates'][0]\n",
    "lst_dataset = ee.ImageCollection('MODIS/061/MOD11A1')\n",
    "datasets = {}\n",
    "\n",
    "for year in range(2015,2022):\n",
    "    datasets[year] = lst_dataset.filterBounds(sl_geom_boundary).filter(ee.Filter.date(str(year) + '-01-01', str(year) + '-12-31'))"
   ]
  },
  {
   "cell_type": "code",
   "execution_count": null,
   "id": "28e9837f-595d-48c4-89eb-99c1d70fc804",
   "metadata": {},
   "outputs": [],
   "source": [
    "Map = geemap.Map(center=(x, y), zoom=8, lite_mode=False)\n",
    "\n",
    "for year, data in datasets.items():\n",
    "    print(f\"[+] processing... {year}\")\n",
    "    dataset = data.select('LST_Day_1km').map(lambda img: img.multiply(0.02).subtract(273.15).copyProperties(img, ['system:time_start'])).mean().clip(sl_geom_boundary)\n",
    "    Map.addLayer(dataset, attributes, 'LST ' + str(year))\n",
    "    # geemap.ee_export_image(dataset, filename=\"D:\\\\\" + str(year) + \".tif\", scale=550, region=sl_geom_boundary, file_per_band=True)\n",
    "    geemap.ee_export_image_to_drive(dataset, fileNamePrefix=\"sl_lst_\" + str(year), region=sl_geom_boundary, folder='export', scale=550)\n",
    "Map"
   ]
  }
 ],
 "metadata": {
  "hide_input": false,
  "kernelspec": {
   "display_name": "Python 3 (ipykernel)",
   "language": "python",
   "name": "python3"
  },
  "language_info": {
   "codemirror_mode": {
    "name": "ipython",
    "version": 3
   },
   "file_extension": ".py",
   "mimetype": "text/x-python",
   "name": "python",
   "nbconvert_exporter": "python",
   "pygments_lexer": "ipython3",
   "version": "3.8.13"
  },
  "toc": {
   "base_numbering": 1,
   "nav_menu": {},
   "number_sections": true,
   "sideBar": true,
   "skip_h1_title": false,
   "title_cell": "Table of Contents",
   "title_sidebar": "Contents",
   "toc_cell": false,
   "toc_position": {},
   "toc_section_display": true,
   "toc_window_display": false
  }
 },
 "nbformat": 4,
 "nbformat_minor": 5
}
